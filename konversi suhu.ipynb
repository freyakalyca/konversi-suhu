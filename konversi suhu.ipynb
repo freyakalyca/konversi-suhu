{
 "cells": [
  {
   "cell_type": "code",
   "execution_count": 4,
   "id": "fe6ba404-673c-4c2e-9aad-5f3289943553",
   "metadata": {},
   "outputs": [
    {
     "name": "stdout",
     "output_type": "stream",
     "text": [
      "Temperature conversion from kelvin\n"
     ]
    },
    {
     "name": "stdin",
     "output_type": "stream",
     "text": [
      "input temperature in kelvin = 700\n"
     ]
    },
    {
     "name": "stdout",
     "output_type": "stream",
     "text": [
      "Temperature in Celcius degree = 426.85\n",
      "Temperature in Fahrenheit degree = 800.33\n",
      "Temperature in Reamur degree = 341.48\n"
     ]
    }
   ],
   "source": [
    "print('Temperature conversion from kelvin')\n",
    "T_K=int(input('input temperature in kelvin ='))\n",
    "T_Cel=T_K-273.15\n",
    "T_F=(T_K-273.15)*9/5+32\n",
    "T_R=(T_K-273.15)*4/5\n",
    "print('Temperature in Celcius degree =',T_Cel)\n",
    "print('Temperature in Fahrenheit degree =',T_F)\n",
    "print('Temperature in Reamur degree =',T_R)"
   ]
  },
  {
   "cell_type": "code",
   "execution_count": 6,
   "id": "c84164dd-e2b0-4769-ad2a-8929a57dbd77",
   "metadata": {},
   "outputs": [
    {
     "name": "stdout",
     "output_type": "stream",
     "text": [
      "Temperature conversion from Fahrenheit\n"
     ]
    },
    {
     "name": "stdin",
     "output_type": "stream",
     "text": [
      "input temperature in fahrenheit degree = 600\n"
     ]
    },
    {
     "name": "stdout",
     "output_type": "stream",
     "text": [
      "Temperature in Celcius degree = 315.55555555555554\n",
      "Temperature in Kelvin = 588.7055555555555\n",
      "Temperature in Reamur degree = 252.44444444444446\n"
     ]
    }
   ],
   "source": [
    "print('Temperature conversion from Fahrenheit')\n",
    "T_F=int(input('input temperature in fahrenheit degree ='))\n",
    "T_Cel=(T_F-32)*5/9\n",
    "T_K=(T_F-32)*5/9+273.15\n",
    "T_R=(T_F-32)*4/9\n",
    "print('Temperature in Celcius degree =',T_Cel)\n",
    "print('Temperature in Kelvin =',T_K)\n",
    "print('Temperature in Reamur degree =',T_R)"
   ]
  },
  {
   "cell_type": "code",
   "execution_count": 8,
   "id": "71732e1e-3820-4bd7-9828-4233e0481910",
   "metadata": {},
   "outputs": [
    {
     "name": "stdout",
     "output_type": "stream",
     "text": [
      "Temperature conversion from Reamur\n"
     ]
    },
    {
     "name": "stdin",
     "output_type": "stream",
     "text": [
      "input temperature in Reamur degree = 100\n"
     ]
    },
    {
     "name": "stdout",
     "output_type": "stream",
     "text": [
      "Temperature in Celcius degree = 125.0\n",
      "Temperature in Kelvin = 398.15\n",
      "Temperature in Fahrenheit degree = 257.0\n"
     ]
    }
   ],
   "source": [
    "print('Temperature conversion from Reamur')\n",
    "T_R=int(input('input temperature in Reamur degree ='))\n",
    "T_Cel=T_R*5/4\n",
    "T_K=(T_R*5/4)+273.15\n",
    "T_F=(T_R*9/4)+32\n",
    "print('Temperature in Celcius degree =',T_Cel)\n",
    "print('Temperature in Kelvin =',T_K)\n",
    "print('Temperature in Fahrenheit degree =',T_F)"
   ]
  },
  {
   "cell_type": "code",
   "execution_count": null,
   "id": "96e66df8-8b1a-47c4-9e8b-decd012be510",
   "metadata": {},
   "outputs": [],
   "source": []
  },
  {
   "cell_type": "code",
   "execution_count": null,
   "id": "f0cfe7c8-c86e-4c12-9430-5ab6ff553be8",
   "metadata": {},
   "outputs": [],
   "source": []
  }
 ],
 "metadata": {
  "kernelspec": {
   "display_name": "Python 3 (ipykernel)",
   "language": "python",
   "name": "python3"
  },
  "language_info": {
   "codemirror_mode": {
    "name": "ipython",
    "version": 3
   },
   "file_extension": ".py",
   "mimetype": "text/x-python",
   "name": "python",
   "nbconvert_exporter": "python",
   "pygments_lexer": "ipython3",
   "version": "3.12.4"
  }
 },
 "nbformat": 4,
 "nbformat_minor": 5
}
